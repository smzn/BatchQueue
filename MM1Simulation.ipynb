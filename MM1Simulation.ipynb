{
  "nbformat": 4,
  "nbformat_minor": 0,
  "metadata": {
    "colab": {
      "provenance": []
    },
    "kernelspec": {
      "name": "python3",
      "display_name": "Python 3"
    },
    "language_info": {
      "name": "python"
    }
  },
  "cells": [
    {
      "cell_type": "code",
      "source": [
        "import random\n",
        "\n",
        "# Parameters\n",
        "lmbda = 2  # arrival rate (customers per time unit)\n",
        "mu = 3    # service rate (customers per time unit)\n",
        "num_events = 10000000\n",
        "\n",
        "# Simulation\n",
        "curr_time = 0\n",
        "num_in_system = 0\n",
        "total_time_in_system = 0\n",
        "total_customers = 0\n",
        "cumulative_customers = 0  # This will store the cumulative number of customers over time\n",
        "cumulative_service_time = 0  # This will store the cumulative service time\n",
        "\n",
        "arrival_times = {}  # To keep track of when each customer arrives\n",
        "\n",
        "for _ in range(num_events):\n",
        "    # Time until next arrival or service\n",
        "    time_to_next_arrival = random.expovariate(lmbda)\n",
        "    time_to_next_service = random.expovariate(mu)\n",
        "\n",
        "    if time_to_next_arrival < time_to_next_service:\n",
        "        # Next event is an arrival\n",
        "        curr_time += time_to_next_arrival\n",
        "        num_in_system += 1\n",
        "        total_customers += 1\n",
        "        arrival_times[total_customers] = curr_time\n",
        "    else:\n",
        "        # Next event is a service\n",
        "        curr_time += time_to_next_service\n",
        "        cumulative_service_time += time_to_next_service\n",
        "        if num_in_system > 0:\n",
        "            num_in_system -= 1\n",
        "            # Compute the time this customer spent in the system\n",
        "            # and remove them from the arrival_times dictionary\n",
        "            arrival_time = arrival_times.pop(total_customers - num_in_system)\n",
        "            time_in_system = curr_time - arrival_time\n",
        "            total_time_in_system += time_in_system\n",
        "\n",
        "    cumulative_customers += num_in_system * (time_to_next_arrival if time_to_next_arrival < time_to_next_service else time_to_next_service)\n",
        "\n",
        "avg_num_in_system = cumulative_customers / curr_time\n",
        "avg_time_in_system = total_time_in_system / total_customers\n",
        "\n",
        "print(f\"Simulated average number of customers in the system: {avg_num_in_system:.2f}\")\n",
        "print(f\"Simulated average time a customer spends in the system: {avg_time_in_system:.2f}\")\n",
        "\n",
        "# Calculate the simulated system utilization\n",
        "avg_arrival_rate_simulated = total_customers / curr_time # 平均到着率を計算\n",
        "avg_service_time_simulated = cumulative_service_time / total_customers # 平均サービス時間を計算\n",
        "rho_simulated = avg_arrival_rate_simulated / avg_service_time_simulated\n",
        "\n",
        "# Theoretical values\n",
        "rho = lmbda / mu\n",
        "L_theoretical = rho / (1 - rho)\n",
        "W_theoretical = 1 / (mu - lmbda)\n",
        "\n",
        "print(f\"Theoretical average number of customers in the system: {L_theoretical:.2f}\")\n",
        "print(f\"Theoretical average time a customer spends in the system: {W_theoretical:.2f}\")\n",
        "print(f\"System Utilization (rho): {rho:.2f}\")\n",
        "print(f\"Simulated System Utilization: {rho_simulated:.2f}\")\n"
      ],
      "metadata": {
        "colab": {
          "base_uri": "https://localhost:8080/"
        },
        "id": "AQDPku-IDym_",
        "outputId": "78d01b26-3109-455e-f21a-83b5d0283c1b"
      },
      "execution_count": 16,
      "outputs": [
        {
          "output_type": "stream",
          "name": "stdout",
          "text": [
            "Simulated average number of customers in the system: 2.00\n",
            "Simulated average time a customer spends in the system: 1.00\n",
            "Theoretical average number of customers in the system: 2.00\n",
            "Theoretical average time a customer spends in the system: 1.00\n",
            "System Utilization (rho): 0.67\n",
            "Simulated System Utilization: 6.67\n"
          ]
        }
      ]
    },
    {
      "cell_type": "code",
      "source": [],
      "metadata": {
        "id": "49LgH8p0EvP3"
      },
      "execution_count": null,
      "outputs": []
    }
  ]
}